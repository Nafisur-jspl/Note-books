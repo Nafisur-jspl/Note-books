{
 "cells": [
  {
   "cell_type": "code",
   "execution_count": 25,
   "metadata": {},
   "outputs": [
    {
     "name": "stdout",
     "output_type": "stream",
     "text": [
      "1.13.1\n"
     ]
    }
   ],
   "source": [
    "import tensorflow as tf\n",
    "import os\n",
    "import pandas as pd\n",
    "import re\n",
    "from sklearn.model_selection import train_test_split\n",
    "import bert\n",
    "from bert import run_classifier\n",
    "from bert import optimization\n",
    "from bert import tokenization\n",
    "import numpy as np\n",
    "import codecs\n",
    "from itertools import compress\n",
    "import keras_bert\n",
    "import tensorflow_hub as hub\n",
    "from keras_bert import load_trained_model_from_checkpoint, Tokenizer\n",
    "from keras_bert.layers import MaskedGlobalMaxPool1D,MaskedConv1D\n",
    "print(tf.__version__)\n",
    "from IPython.core.interactiveshell import InteractiveShell\n",
    "InteractiveShell.ast_node_interactivity='all'\n",
    "# pd.options.display.max_colwidth=100"
   ]
  },
  {
   "cell_type": "code",
   "execution_count": 2,
   "metadata": {},
   "outputs": [
    {
     "data": {
      "text/html": [
       "<div>\n",
       "<style scoped>\n",
       "    .dataframe tbody tr th:only-of-type {\n",
       "        vertical-align: middle;\n",
       "    }\n",
       "\n",
       "    .dataframe tbody tr th {\n",
       "        vertical-align: top;\n",
       "    }\n",
       "\n",
       "    .dataframe thead th {\n",
       "        text-align: right;\n",
       "    }\n",
       "</style>\n",
       "<table border=\"1\" class=\"dataframe\">\n",
       "  <thead>\n",
       "    <tr style=\"text-align: right;\">\n",
       "      <th></th>\n",
       "      <th>text</th>\n",
       "      <th>labels</th>\n",
       "      <th>File_id</th>\n",
       "      <th>ind:1344793_Financial Services</th>\n",
       "      <th>ind:1345595_Securities, Commodity Contracts and Financial Investments</th>\n",
       "      <th>ind:1344794_Technology</th>\n",
       "      <th>ind:1344780_Healthcare</th>\n",
       "      <th>ind:1345016_Banking and Credit</th>\n",
       "      <th>ind:1345359_Banking</th>\n",
       "      <th>ind:1344788_Pharmaceuticals</th>\n",
       "      <th>...</th>\n",
       "      <th>ind:1345379_Biotechnology</th>\n",
       "      <th>ind:1344797_Energy Industry</th>\n",
       "      <th>ind:1345570_Search Engines</th>\n",
       "      <th>ind:1344801_Specialized Drugs and Medications</th>\n",
       "      <th>ind:1345243_Computer Software</th>\n",
       "      <th>ind:1348232_Computers</th>\n",
       "      <th>ind:1345692_Alternative Investments</th>\n",
       "      <th>ind:1348218_Media Industry</th>\n",
       "      <th>ind:1344990_Exchange-Traded Funds</th>\n",
       "      <th>Num_labels</th>\n",
       "    </tr>\n",
       "  </thead>\n",
       "  <tbody>\n",
       "    <tr>\n",
       "      <th>0</th>\n",
       "      <td>Best s Rating Notification MIC Property and Ca...</td>\n",
       "      <td>ind:1344793_Financial Services</td>\n",
       "      <td>40121673_AMBEST0020180829ee8t001jn_FT_40121673...</td>\n",
       "      <td>1</td>\n",
       "      <td>0</td>\n",
       "      <td>0</td>\n",
       "      <td>0</td>\n",
       "      <td>0</td>\n",
       "      <td>0</td>\n",
       "      <td>0</td>\n",
       "      <td>...</td>\n",
       "      <td>0</td>\n",
       "      <td>0</td>\n",
       "      <td>0</td>\n",
       "      <td>0</td>\n",
       "      <td>0</td>\n",
       "      <td>0</td>\n",
       "      <td>0</td>\n",
       "      <td>0</td>\n",
       "      <td>0</td>\n",
       "      <td>1</td>\n",
       "    </tr>\n",
       "    <tr>\n",
       "      <th>1</th>\n",
       "      <td>De novos built for niche audiences Albert Amin...</td>\n",
       "      <td>ind:1344898_Commercial Banking | ind:1344793_F...</td>\n",
       "      <td>40121673_AMBO000020180827ee8r000b5_FT_40121673...</td>\n",
       "      <td>1</td>\n",
       "      <td>0</td>\n",
       "      <td>0</td>\n",
       "      <td>0</td>\n",
       "      <td>1</td>\n",
       "      <td>1</td>\n",
       "      <td>0</td>\n",
       "      <td>...</td>\n",
       "      <td>0</td>\n",
       "      <td>0</td>\n",
       "      <td>0</td>\n",
       "      <td>0</td>\n",
       "      <td>0</td>\n",
       "      <td>0</td>\n",
       "      <td>0</td>\n",
       "      <td>0</td>\n",
       "      <td>0</td>\n",
       "      <td>4</td>\n",
       "    </tr>\n",
       "  </tbody>\n",
       "</table>\n",
       "<p>2 rows × 34 columns</p>\n",
       "</div>"
      ],
      "text/plain": [
       "                                                text  \\\n",
       "0  Best s Rating Notification MIC Property and Ca...   \n",
       "1  De novos built for niche audiences Albert Amin...   \n",
       "\n",
       "                                              labels  \\\n",
       "0                     ind:1344793_Financial Services   \n",
       "1  ind:1344898_Commercial Banking | ind:1344793_F...   \n",
       "\n",
       "                                             File_id  \\\n",
       "0  40121673_AMBEST0020180829ee8t001jn_FT_40121673...   \n",
       "1  40121673_AMBO000020180827ee8r000b5_FT_40121673...   \n",
       "\n",
       "   ind:1344793_Financial Services  \\\n",
       "0                               1   \n",
       "1                               1   \n",
       "\n",
       "   ind:1345595_Securities, Commodity Contracts and Financial Investments  \\\n",
       "0                                                  0                       \n",
       "1                                                  0                       \n",
       "\n",
       "   ind:1344794_Technology  ind:1344780_Healthcare  \\\n",
       "0                       0                       0   \n",
       "1                       0                       0   \n",
       "\n",
       "   ind:1345016_Banking and Credit  ind:1345359_Banking  \\\n",
       "0                               0                    0   \n",
       "1                               1                    1   \n",
       "\n",
       "   ind:1344788_Pharmaceuticals  ...  ind:1345379_Biotechnology  \\\n",
       "0                            0  ...                          0   \n",
       "1                            0  ...                          0   \n",
       "\n",
       "   ind:1344797_Energy Industry  ind:1345570_Search Engines  \\\n",
       "0                            0                           0   \n",
       "1                            0                           0   \n",
       "\n",
       "   ind:1344801_Specialized Drugs and Medications  \\\n",
       "0                                              0   \n",
       "1                                              0   \n",
       "\n",
       "   ind:1345243_Computer Software  ind:1348232_Computers  \\\n",
       "0                              0                      0   \n",
       "1                              0                      0   \n",
       "\n",
       "   ind:1345692_Alternative Investments  ind:1348218_Media Industry  \\\n",
       "0                                    0                           0   \n",
       "1                                    0                           0   \n",
       "\n",
       "   ind:1344990_Exchange-Traded Funds  Num_labels  \n",
       "0                                  0           1  \n",
       "1                                  0           4  \n",
       "\n",
       "[2 rows x 34 columns]"
      ]
     },
     "execution_count": 2,
     "metadata": {},
     "output_type": "execute_result"
    }
   ],
   "source": [
    "path='/NR/wd/1.Project/6.Multi-label_with_BERT/factselect.csv'\n",
    "df_all=pd.read_csv(path)\n",
    "df_all.head(2)"
   ]
  },
  {
   "cell_type": "code",
   "execution_count": 3,
   "metadata": {},
   "outputs": [
    {
     "data": {
      "text/plain": [
       "((174, 34), (44, 34))"
      ]
     },
     "execution_count": 3,
     "metadata": {},
     "output_type": "execute_result"
    }
   ],
   "source": [
    "train_df,test_df=train_test_split(df_all,test_size=0.2,random_state=123,stratify=df_all.Num_labels)\n",
    "train_df.shape,test_df.shape"
   ]
  },
  {
   "cell_type": "code",
   "execution_count": 4,
   "metadata": {},
   "outputs": [
    {
     "data": {
      "text/plain": [
       "30"
      ]
     },
     "execution_count": 4,
     "metadata": {},
     "output_type": "execute_result"
    }
   ],
   "source": [
    "target_labels=list(train_df.columns[3:-1])\n",
    "len(target_labels)"
   ]
  },
  {
   "cell_type": "code",
   "execution_count": 5,
   "metadata": {},
   "outputs": [
    {
     "data": {
      "text/plain": [
       "((174, 30), (44, 30))"
      ]
     },
     "execution_count": 5,
     "metadata": {},
     "output_type": "execute_result"
    }
   ],
   "source": [
    "y_train=train_df[target_labels].values\n",
    "y_test=test_df[target_labels].values\n",
    "y_train.shape,y_test.shape"
   ]
  },
  {
   "cell_type": "code",
   "execution_count": 8,
   "metadata": {},
   "outputs": [],
   "source": [
    "X_train_text=train_df.text.values\n",
    "X_test_text=test_df.text.values\n",
    "train_features = {\n",
    "    \"news\": np.array(X_train_text)\n",
    "    }\n",
    "train_labels = np.array(y_train)\n",
    "test_features = {\n",
    "    \"news\": np.array(X_test_text)\n",
    "    }\n",
    "test_labels=np.array(y_test)"
   ]
  },
  {
   "cell_type": "code",
   "execution_count": 19,
   "metadata": {},
   "outputs": [],
   "source": [
    "embedded_text_feature_column = hub.text_embedding_column(\n",
    "    key=\"news\", \n",
    "    module_spec=\"https://tfhub.dev/google/universal-sentence-encoder/2\", trainable=False)"
   ]
  },
  {
   "cell_type": "code",
   "execution_count": 20,
   "metadata": {},
   "outputs": [
    {
     "name": "stdout",
     "output_type": "stream",
     "text": [
      "Number of labels : 30\n"
     ]
    }
   ],
   "source": [
    "num_classes=len(y_train[0])\n",
    "print('Number of labels :',num_classes)\n",
    "\n",
    "multi_label_head = tf.contrib.estimator.multi_label_head(num_classes,loss_reduction=tf.losses.Reduction.SUM_OVER_BATCH_SIZE)"
   ]
  },
  {
   "cell_type": "code",
   "execution_count": 36,
   "metadata": {},
   "outputs": [
    {
     "name": "stdout",
     "output_type": "stream",
     "text": [
      "INFO:tensorflow:Using default config.\n",
      "WARNING:tensorflow:Using temporary folder as model directory: C:\\Users\\NAFISU~1.RAH\\AppData\\Local\\Temp\\tmppw8761t1\n",
      "INFO:tensorflow:Using config: {'_model_dir': 'C:\\\\Users\\\\NAFISU~1.RAH\\\\AppData\\\\Local\\\\Temp\\\\tmppw8761t1', '_tf_random_seed': None, '_save_summary_steps': 100, '_save_checkpoints_steps': None, '_save_checkpoints_secs': 600, '_session_config': allow_soft_placement: true\n",
      "graph_options {\n",
      "  rewrite_options {\n",
      "    meta_optimizer_iterations: ONE\n",
      "  }\n",
      "}\n",
      ", '_keep_checkpoint_max': 5, '_keep_checkpoint_every_n_hours': 10000, '_log_step_count_steps': 100, '_train_distribute': None, '_device_fn': None, '_protocol': None, '_eval_distribute': None, '_experimental_distribute': None, '_service': None, '_cluster_spec': <tensorflow.python.training.server_lib.ClusterSpec object at 0x000001E48815A2E8>, '_task_type': 'worker', '_task_id': 0, '_global_id_in_cluster': 0, '_master': '', '_evaluation_master': '', '_is_chief': True, '_num_ps_replicas': 0, '_num_worker_replicas': 1}\n"
     ]
    }
   ],
   "source": [
    "estimator = tf.estimator.DNNEstimator(head=multi_label_head,\n",
    "                                      hidden_units=[1024, 512, 256],\n",
    "                                      feature_columns=[embedded_text_feature_column],\n",
    "                                      optimizer='Adam')"
   ]
  },
  {
   "cell_type": "code",
   "execution_count": 37,
   "metadata": {},
   "outputs": [],
   "source": [
    "train_input_fn = tf.estimator.inputs.numpy_input_fn(train_features, train_labels, shuffle=True, batch_size=32, num_epochs=25)\n",
    "test_input_fn = tf.estimator.inputs.numpy_input_fn(test_features, test_labels, shuffle=False)"
   ]
  },
  {
   "cell_type": "code",
   "execution_count": 38,
   "metadata": {},
   "outputs": [
    {
     "name": "stdout",
     "output_type": "stream",
     "text": [
      "INFO:tensorflow:Calling model_fn.\n",
      "INFO:tensorflow:Saver not created because there are no variables in the graph to restore\n",
      "INFO:tensorflow:Saver not created because there are no variables in the graph to restore\n",
      "INFO:tensorflow:Done calling model_fn.\n",
      "INFO:tensorflow:Create CheckpointSaverHook.\n",
      "INFO:tensorflow:Graph was finalized.\n",
      "INFO:tensorflow:Running local_init_op.\n",
      "INFO:tensorflow:Done running local_init_op.\n",
      "INFO:tensorflow:Saving checkpoints for 0 into C:\\Users\\NAFISU~1.RAH\\AppData\\Local\\Temp\\tmppw8761t1\\model.ckpt.\n",
      "INFO:tensorflow:loss = 0.6926433, step = 1\n",
      "INFO:tensorflow:global_step/sec: 6.22237\n",
      "INFO:tensorflow:loss = 0.22476986, step = 101 (16.071 sec)\n",
      "INFO:tensorflow:Saving checkpoints for 136 into C:\\Users\\NAFISU~1.RAH\\AppData\\Local\\Temp\\tmppw8761t1\\model.ckpt.\n",
      "INFO:tensorflow:Loss for final step: 0.16917609.\n",
      "Wall time: 1min 47s\n"
     ]
    },
    {
     "data": {
      "text/plain": [
       "<tensorflow_estimator.python.estimator.canned.dnn.DNNEstimator at 0x1e48815a978>"
      ]
     },
     "execution_count": 38,
     "metadata": {},
     "output_type": "execute_result"
    }
   ],
   "source": [
    "%%time\n",
    "estimator.train(input_fn=train_input_fn)"
   ]
  },
  {
   "cell_type": "code",
   "execution_count": 39,
   "metadata": {},
   "outputs": [
    {
     "name": "stdout",
     "output_type": "stream",
     "text": [
      "INFO:tensorflow:Calling model_fn.\n",
      "INFO:tensorflow:Saver not created because there are no variables in the graph to restore\n",
      "INFO:tensorflow:Saver not created because there are no variables in the graph to restore\n",
      "WARNING:tensorflow:Trapezoidal rule is known to produce incorrect PR-AUCs; please switch to \"careful_interpolation\" instead.\n",
      "WARNING:tensorflow:Trapezoidal rule is known to produce incorrect PR-AUCs; please switch to \"careful_interpolation\" instead.\n",
      "INFO:tensorflow:Done calling model_fn.\n",
      "INFO:tensorflow:Starting evaluation at 2019-05-02T08:09:49Z\n",
      "INFO:tensorflow:Graph was finalized.\n",
      "INFO:tensorflow:Restoring parameters from C:\\Users\\NAFISU~1.RAH\\AppData\\Local\\Temp\\tmppw8761t1\\model.ckpt-136\n",
      "INFO:tensorflow:Running local_init_op.\n",
      "INFO:tensorflow:Done running local_init_op.\n",
      "INFO:tensorflow:Finished evaluation at 2019-05-02-08:10:04\n",
      "INFO:tensorflow:Saving dict for global step 136: auc = 0.83928716, auc_precision_recall = 0.52075624, average_loss = 0.22397913, global_step = 136, loss = 0.22397913\n",
      "INFO:tensorflow:Saving 'checkpoint_path' summary for global step 136: C:\\Users\\NAFISU~1.RAH\\AppData\\Local\\Temp\\tmppw8761t1\\model.ckpt-136\n"
     ]
    },
    {
     "data": {
      "text/plain": [
       "{'auc': 0.83928716,\n",
       " 'auc_precision_recall': 0.52075624,\n",
       " 'average_loss': 0.22397913,\n",
       " 'loss': 0.22397913,\n",
       " 'global_step': 136}"
      ]
     },
     "execution_count": 39,
     "metadata": {},
     "output_type": "execute_result"
    }
   ],
   "source": [
    "estimator.evaluate(input_fn=test_input_fn)"
   ]
  },
  {
   "cell_type": "code",
   "execution_count": 40,
   "metadata": {},
   "outputs": [
    {
     "name": "stdout",
     "output_type": "stream",
     "text": [
      "['UPDATE 1 Activist Elliott argues Sky is worth over 34 billion, UK regulator says Updates with detail and background By Ben Martin LONDON, Aug 29 Reuters Activist hedge fund Elliott believes Walt Disney s deal to buy assets from Twenty First Century Fox has valued Sky at more than 34 billion, higher than any of the current offers for the British broadcaster, Britain s takeover regulator disclosed on Wednesday. Sky is at centre of a bidding battle between Rupert Murdoch s Fox, which already owns 39 percent of the pay television company, and U.S. cable giant Comcast. Disney has also agreed a separate deal to buy TV and film assets from Fox, including its Sky shareholding, for about 71 billion. Disney was forced to raise the price it is paying for the Fox businesses in June to 38 a share after Comcast also tried to gate crash that deal. Comcast currently has the upper hand in the fight for Sky after it offered 14.75 pounds a share for the broadcaster last month, trumping a sweetened 14 pounds a share bid that Fox made earlier in July. But Elliott, which owns a 4.3 percent stake in Sky, and hedge funds Davidson Kempner and Farallon Capital have argued that Sky is worth at least 15.01 pounds a share in the wake of Disney s improved offer for the Fox assets, British regulator the Takeover Panel said on Wednesday. That would value Sky as a whole at about 26.4 billion pounds 34.3 billion , according to Reuters calculations. Elliott and the two other funds did not immediately respond to requests for comment. At issue is the price Disney might be forced to offer to take full control of Sky. This is set by the Panel and essentially puts a floor under Sky s shares, which closed at 15.44 pounds on Wednesday in London. The Panel ruled in April that Disney would have to buy Sky if its deal for the Fox assets completes before either Fox or Comcast have managed to take control of the British broadcaster. REGULATOR CHALLENGED In the wake of Disney s improved offer for the Fox businesses in June, the Panel decided in July that any compulsory offer for Sky should be priced at 14 pounds a share. That ruling was then reviewed and upheld by the Takeover Appeal Board, an independent body, earlier this month after several interested parties lodged appeals against the decision. The Panel and the Takeover Appeal Board identified the challengers on Wednesday, disclosing for the first time that Elliott, Davidson Kempner and Farallon had unsuccessfully argued for a mandatory Disney offer of no lower than 15.01 pounds a share. Sky s independent directors had contended that the level of any mandatory Disney offer be set at 14.59 pounds a share, the Panel and the Appeal Board said. Meanwhile, Fox had believed the compulsory Disney offer should have been fixed at 12.50 pounds a share but had accepted the regulator s original ruling of 14 pounds, according to the Panel and the Appeal Board. They added that Disney, which had also not challenged the Panel s decision, had put a 12.50 pound a share price tag on the 39 percent Sky stake when it revised its offer for the Fox assets. The disclosure of the different parties valuations is significant because the battle for Sky is not over. Both Fox and Comcast have until Sept. 22 to lift their offers for the pay TV group if they decide to do so. If Sky s future is not resolved by then, the Panel has the power to intervene and run a formal auction to bring the bidding war to an end. 1 0.7688 pounds Reporting by Ben Martin; Editing by Kirsten Donovan and Jane Merriman ']\n",
      "['ind:1344793_Financial Services', 'ind:1345595_Securities, Commodity Contracts and Financial Investments', 'ind:1345190_Trusts, Funds and Financial Vehicles', 'ind:1345692_Alternative Investments', 'ind:1348218_Media Industry']\n"
     ]
    }
   ],
   "source": [
    "i=11\n",
    "sample_text=[X_test_text[i]]\n",
    "subject=list(compress(target_labels, y_test[i]))\n",
    "print(sample_text)\n",
    "print(subject)"
   ]
  },
  {
   "cell_type": "code",
   "execution_count": 41,
   "metadata": {},
   "outputs": [],
   "source": [
    "# Generate predictions\n",
    "predict_input_fn = tf.estimator.inputs.numpy_input_fn({\"news\": np.array(sample_text)}, shuffle=False)\n",
    "results = estimator.predict(predict_input_fn)"
   ]
  },
  {
   "cell_type": "code",
   "execution_count": 42,
   "metadata": {},
   "outputs": [
    {
     "name": "stdout",
     "output_type": "stream",
     "text": [
      "INFO:tensorflow:Calling model_fn.\n",
      "INFO:tensorflow:Saver not created because there are no variables in the graph to restore\n",
      "INFO:tensorflow:Saver not created because there are no variables in the graph to restore\n",
      "INFO:tensorflow:Done calling model_fn.\n",
      "INFO:tensorflow:Graph was finalized.\n",
      "INFO:tensorflow:Restoring parameters from C:\\Users\\NAFISU~1.RAH\\AppData\\Local\\Temp\\tmppw8761t1\\model.ckpt-136\n",
      "INFO:tensorflow:Running local_init_op.\n",
      "INFO:tensorflow:Done running local_init_op.\n",
      "                                         subject_name      prob\n",
      "0                      ind:1344793_Financial Services  0.874241\n",
      "1   ind:1345595_Securities, Commodity Contracts an...  0.451231\n",
      "4                      ind:1345016_Banking and Credit  0.284377\n",
      "9                   ind:1345727_Financial Investments  0.264354\n",
      "5                                 ind:1345359_Banking  0.203440\n",
      "7    ind:1345190_Trusts, Funds and Financial Vehicles  0.144487\n",
      "29                  ind:1344990_Exchange-Traded Funds  0.122974\n",
      "14                     ind:1344898_Commercial Banking  0.092567\n",
      "12                   ind:1348028_Retail and Wholesale  0.079070\n",
      "3                              ind:1344780_Healthcare  0.066291\n",
      "True Label : ['ind:1344793_Financial Services', 'ind:1345595_Securities, Commodity Contracts and Financial Investments', 'ind:1345190_Trusts, Funds and Financial Vehicles', 'ind:1345692_Alternative Investments', 'ind:1348218_Media Industry']\n"
     ]
    }
   ],
   "source": [
    "for r in results:\n",
    "    prob = r['probabilities']\n",
    "    result_df=pd.DataFrame({'subject_name':target_labels,'prob':prob})\n",
    "    print(result_df.sort_values(by=['prob'],ascending=False)[0:10])\n",
    "    print('True Label :',subject)"
   ]
  },
  {
   "cell_type": "code",
   "execution_count": null,
   "metadata": {},
   "outputs": [],
   "source": [
    "estimator.export_saved_model()"
   ]
  }
 ],
 "metadata": {
  "kernelspec": {
   "display_name": "Python 3",
   "language": "python",
   "name": "python3"
  },
  "language_info": {
   "codemirror_mode": {
    "name": "ipython",
    "version": 3
   },
   "file_extension": ".py",
   "mimetype": "text/x-python",
   "name": "python",
   "nbconvert_exporter": "python",
   "pygments_lexer": "ipython3",
   "version": "3.6.6"
  }
 },
 "nbformat": 4,
 "nbformat_minor": 2
}
